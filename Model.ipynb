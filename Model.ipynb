{
 "cells": [
  {
   "cell_type": "code",
   "execution_count": 1,
   "metadata": {},
   "outputs": [],
   "source": [
    "import pandas as pd\n",
    "import numpy as np\n",
    "import matplotlib.pyplot as plt\n",
    "import seaborn as sns\n",
    "from sklearn.preprocessing import StandardScaler\n",
    "from sklearn.linear_model import LogisticRegression\n",
    "from sklearn.model_selection import train_test_split\n",
    "from sklearn.metrics import accuracy_score\n",
    "from sklearn.linear_model import LogisticRegression\n",
    "from sklearn.neighbors import KNeighborsClassifier\n",
    "from sklearn.tree import DecisionTreeClassifier\n",
    "from sklearn.ensemble import BaggingClassifier, RandomForestClassifier, AdaBoostClassifier, GradientBoostingClassifier, VotingClassifier\n",
    "from sklearn.svm import SVC\n",
    "from sklearn.utils import resample\n",
    "from imblearn.over_sampling import SMOTE"
   ]
  },
  {
   "cell_type": "code",
   "execution_count": 2,
   "metadata": {},
   "outputs": [],
   "source": [
    "## Read in our combined dataset (for how data was gathered/aggregated, see other notebook)\n",
    "tracks = pd.read_csv('./data/tracks.csv').iloc[:, 1:]"
   ]
  },
  {
   "cell_type": "code",
   "execution_count": 3,
   "metadata": {},
   "outputs": [
    {
     "data": {
      "text/plain": [
       "(291630, 19)"
      ]
     },
     "execution_count": 3,
     "metadata": {},
     "output_type": "execute_result"
    }
   ],
   "source": [
    "## A little under 300,000 observations\n",
    "tracks.shape"
   ]
  },
  {
   "cell_type": "code",
   "execution_count": 4,
   "metadata": {},
   "outputs": [
    {
     "data": {
      "text/html": [
       "<div>\n",
       "<style scoped>\n",
       "    .dataframe tbody tr th:only-of-type {\n",
       "        vertical-align: middle;\n",
       "    }\n",
       "\n",
       "    .dataframe tbody tr th {\n",
       "        vertical-align: top;\n",
       "    }\n",
       "\n",
       "    .dataframe thead th {\n",
       "        text-align: right;\n",
       "    }\n",
       "</style>\n",
       "<table border=\"1\" class=\"dataframe\">\n",
       "  <thead>\n",
       "    <tr style=\"text-align: right;\">\n",
       "      <th></th>\n",
       "      <th>id</th>\n",
       "      <th>song</th>\n",
       "      <th>artist</th>\n",
       "      <th>acousticness</th>\n",
       "      <th>danceability</th>\n",
       "      <th>duration_ms</th>\n",
       "      <th>energy</th>\n",
       "      <th>instrumentalness</th>\n",
       "      <th>key</th>\n",
       "      <th>liveness</th>\n",
       "      <th>loudness</th>\n",
       "      <th>mode</th>\n",
       "      <th>speechiness</th>\n",
       "      <th>tempo</th>\n",
       "      <th>time_signature</th>\n",
       "      <th>valence</th>\n",
       "      <th>year</th>\n",
       "      <th>position</th>\n",
       "      <th>top100</th>\n",
       "    </tr>\n",
       "  </thead>\n",
       "  <tbody>\n",
       "    <tr>\n",
       "      <th>0</th>\n",
       "      <td>4TTV7EcfroSLWzXRY6gLv6</td>\n",
       "      <td>Alexander Hamilton</td>\n",
       "      <td>Original Broadway Cast Recording</td>\n",
       "      <td>0.524</td>\n",
       "      <td>0.609</td>\n",
       "      <td>236738.0</td>\n",
       "      <td>0.435</td>\n",
       "      <td>0.0</td>\n",
       "      <td>11.0</td>\n",
       "      <td>0.1180</td>\n",
       "      <td>-7.862</td>\n",
       "      <td>0.0</td>\n",
       "      <td>0.284</td>\n",
       "      <td>131.998</td>\n",
       "      <td>4.0</td>\n",
       "      <td>0.563</td>\n",
       "      <td>2015</td>\n",
       "      <td>NaN</td>\n",
       "      <td>0</td>\n",
       "    </tr>\n",
       "    <tr>\n",
       "      <th>1</th>\n",
       "      <td>6dr7ekfhlbquvsVY8D7gyk</td>\n",
       "      <td>Aaron Burr, Sir</td>\n",
       "      <td>Original Broadway Cast Recording</td>\n",
       "      <td>0.271</td>\n",
       "      <td>0.646</td>\n",
       "      <td>156631.0</td>\n",
       "      <td>0.438</td>\n",
       "      <td>0.0</td>\n",
       "      <td>8.0</td>\n",
       "      <td>0.0945</td>\n",
       "      <td>-10.837</td>\n",
       "      <td>1.0</td>\n",
       "      <td>0.808</td>\n",
       "      <td>160.433</td>\n",
       "      <td>4.0</td>\n",
       "      <td>0.524</td>\n",
       "      <td>2015</td>\n",
       "      <td>NaN</td>\n",
       "      <td>0</td>\n",
       "    </tr>\n",
       "    <tr>\n",
       "      <th>2</th>\n",
       "      <td>4cxvludVmQxryrnx1m9FqL</td>\n",
       "      <td>My Shot</td>\n",
       "      <td>Original Broadway Cast Recording</td>\n",
       "      <td>0.150</td>\n",
       "      <td>0.829</td>\n",
       "      <td>333154.0</td>\n",
       "      <td>0.649</td>\n",
       "      <td>0.0</td>\n",
       "      <td>8.0</td>\n",
       "      <td>0.0904</td>\n",
       "      <td>-6.764</td>\n",
       "      <td>1.0</td>\n",
       "      <td>0.317</td>\n",
       "      <td>90.936</td>\n",
       "      <td>4.0</td>\n",
       "      <td>0.569</td>\n",
       "      <td>2015</td>\n",
       "      <td>NaN</td>\n",
       "      <td>0</td>\n",
       "    </tr>\n",
       "    <tr>\n",
       "      <th>3</th>\n",
       "      <td>0NJWhm3hUwIZSy5s0TGJ8q</td>\n",
       "      <td>The Story of Tonight</td>\n",
       "      <td>Original Broadway Cast Recording</td>\n",
       "      <td>0.835</td>\n",
       "      <td>0.407</td>\n",
       "      <td>91981.0</td>\n",
       "      <td>0.237</td>\n",
       "      <td>0.0</td>\n",
       "      <td>9.0</td>\n",
       "      <td>0.6480</td>\n",
       "      <td>-10.579</td>\n",
       "      <td>1.0</td>\n",
       "      <td>0.053</td>\n",
       "      <td>95.111</td>\n",
       "      <td>3.0</td>\n",
       "      <td>0.612</td>\n",
       "      <td>2015</td>\n",
       "      <td>NaN</td>\n",
       "      <td>0</td>\n",
       "    </tr>\n",
       "    <tr>\n",
       "      <th>4</th>\n",
       "      <td>71X7bPDljJHrmEGYCe7kQ8</td>\n",
       "      <td>The Schuyler Sisters</td>\n",
       "      <td>Original Broadway Cast Recording</td>\n",
       "      <td>0.186</td>\n",
       "      <td>0.740</td>\n",
       "      <td>186543.0</td>\n",
       "      <td>0.727</td>\n",
       "      <td>0.0</td>\n",
       "      <td>2.0</td>\n",
       "      <td>0.6270</td>\n",
       "      <td>-6.253</td>\n",
       "      <td>1.0</td>\n",
       "      <td>0.278</td>\n",
       "      <td>101.408</td>\n",
       "      <td>4.0</td>\n",
       "      <td>0.792</td>\n",
       "      <td>2015</td>\n",
       "      <td>NaN</td>\n",
       "      <td>0</td>\n",
       "    </tr>\n",
       "  </tbody>\n",
       "</table>\n",
       "</div>"
      ],
      "text/plain": [
       "                       id                  song  \\\n",
       "0  4TTV7EcfroSLWzXRY6gLv6    Alexander Hamilton   \n",
       "1  6dr7ekfhlbquvsVY8D7gyk       Aaron Burr, Sir   \n",
       "2  4cxvludVmQxryrnx1m9FqL               My Shot   \n",
       "3  0NJWhm3hUwIZSy5s0TGJ8q  The Story of Tonight   \n",
       "4  71X7bPDljJHrmEGYCe7kQ8  The Schuyler Sisters   \n",
       "\n",
       "                             artist  acousticness  danceability  duration_ms  \\\n",
       "0  Original Broadway Cast Recording         0.524         0.609     236738.0   \n",
       "1  Original Broadway Cast Recording         0.271         0.646     156631.0   \n",
       "2  Original Broadway Cast Recording         0.150         0.829     333154.0   \n",
       "3  Original Broadway Cast Recording         0.835         0.407      91981.0   \n",
       "4  Original Broadway Cast Recording         0.186         0.740     186543.0   \n",
       "\n",
       "   energy  instrumentalness   key  liveness  loudness  mode  speechiness  \\\n",
       "0   0.435               0.0  11.0    0.1180    -7.862   0.0        0.284   \n",
       "1   0.438               0.0   8.0    0.0945   -10.837   1.0        0.808   \n",
       "2   0.649               0.0   8.0    0.0904    -6.764   1.0        0.317   \n",
       "3   0.237               0.0   9.0    0.6480   -10.579   1.0        0.053   \n",
       "4   0.727               0.0   2.0    0.6270    -6.253   1.0        0.278   \n",
       "\n",
       "     tempo  time_signature  valence  year  position  top100  \n",
       "0  131.998             4.0    0.563  2015       NaN       0  \n",
       "1  160.433             4.0    0.524  2015       NaN       0  \n",
       "2   90.936             4.0    0.569  2015       NaN       0  \n",
       "3   95.111             3.0    0.612  2015       NaN       0  \n",
       "4  101.408             4.0    0.792  2015       NaN       0  "
      ]
     },
     "execution_count": 4,
     "metadata": {},
     "output_type": "execute_result"
    }
   ],
   "source": [
    "tracks.head()"
   ]
  },
  {
   "cell_type": "code",
   "execution_count": 5,
   "metadata": {},
   "outputs": [
    {
     "data": {
      "text/html": [
       "<div>\n",
       "<style scoped>\n",
       "    .dataframe tbody tr th:only-of-type {\n",
       "        vertical-align: middle;\n",
       "    }\n",
       "\n",
       "    .dataframe tbody tr th {\n",
       "        vertical-align: top;\n",
       "    }\n",
       "\n",
       "    .dataframe thead th {\n",
       "        text-align: right;\n",
       "    }\n",
       "</style>\n",
       "<table border=\"1\" class=\"dataframe\">\n",
       "  <thead>\n",
       "    <tr style=\"text-align: right;\">\n",
       "      <th></th>\n",
       "      <th>id</th>\n",
       "      <th>song</th>\n",
       "      <th>artist</th>\n",
       "      <th>acousticness</th>\n",
       "      <th>danceability</th>\n",
       "      <th>duration_ms</th>\n",
       "      <th>energy</th>\n",
       "      <th>instrumentalness</th>\n",
       "      <th>key</th>\n",
       "      <th>liveness</th>\n",
       "      <th>loudness</th>\n",
       "      <th>mode</th>\n",
       "      <th>speechiness</th>\n",
       "      <th>tempo</th>\n",
       "      <th>time_signature</th>\n",
       "      <th>valence</th>\n",
       "      <th>year</th>\n",
       "      <th>position</th>\n",
       "      <th>top100</th>\n",
       "    </tr>\n",
       "  </thead>\n",
       "  <tbody>\n",
       "    <tr>\n",
       "      <th>153848</th>\n",
       "      <td>6XFqSSPw9K6EdZO54QghgG</td>\n",
       "      <td>Split Yo Face</td>\n",
       "      <td>Brotha Lynch Hung</td>\n",
       "      <td>NaN</td>\n",
       "      <td>NaN</td>\n",
       "      <td>NaN</td>\n",
       "      <td>NaN</td>\n",
       "      <td>NaN</td>\n",
       "      <td>NaN</td>\n",
       "      <td>NaN</td>\n",
       "      <td>NaN</td>\n",
       "      <td>NaN</td>\n",
       "      <td>NaN</td>\n",
       "      <td>NaN</td>\n",
       "      <td>NaN</td>\n",
       "      <td>NaN</td>\n",
       "      <td>1999</td>\n",
       "      <td>NaN</td>\n",
       "      <td>0</td>\n",
       "    </tr>\n",
       "    <tr>\n",
       "      <th>197382</th>\n",
       "      <td>7Ejk29jo1lKAAQI7UuooAq</td>\n",
       "      <td>We're Gonna Kick It Once</td>\n",
       "      <td>Rodney O &amp; Joe Cooley</td>\n",
       "      <td>NaN</td>\n",
       "      <td>NaN</td>\n",
       "      <td>NaN</td>\n",
       "      <td>NaN</td>\n",
       "      <td>NaN</td>\n",
       "      <td>NaN</td>\n",
       "      <td>NaN</td>\n",
       "      <td>NaN</td>\n",
       "      <td>NaN</td>\n",
       "      <td>NaN</td>\n",
       "      <td>NaN</td>\n",
       "      <td>NaN</td>\n",
       "      <td>NaN</td>\n",
       "      <td>1990</td>\n",
       "      <td>NaN</td>\n",
       "      <td>0</td>\n",
       "    </tr>\n",
       "  </tbody>\n",
       "</table>\n",
       "</div>"
      ],
      "text/plain": [
       "                            id                      song  \\\n",
       "153848  6XFqSSPw9K6EdZO54QghgG             Split Yo Face   \n",
       "197382  7Ejk29jo1lKAAQI7UuooAq  We're Gonna Kick It Once   \n",
       "\n",
       "                       artist  acousticness  danceability  duration_ms  \\\n",
       "153848      Brotha Lynch Hung           NaN           NaN          NaN   \n",
       "197382  Rodney O & Joe Cooley           NaN           NaN          NaN   \n",
       "\n",
       "        energy  instrumentalness  key  liveness  loudness  mode  speechiness  \\\n",
       "153848     NaN               NaN  NaN       NaN       NaN   NaN          NaN   \n",
       "197382     NaN               NaN  NaN       NaN       NaN   NaN          NaN   \n",
       "\n",
       "        tempo  time_signature  valence  year  position  top100  \n",
       "153848    NaN             NaN      NaN  1999       NaN       0  \n",
       "197382    NaN             NaN      NaN  1990       NaN       0  "
      ]
     },
     "execution_count": 5,
     "metadata": {},
     "output_type": "execute_result"
    }
   ],
   "source": [
    "## Check for nulls and drop\n",
    "removals = tracks[tracks['acousticness'].isnull()].index\n",
    "tracks[tracks['acousticness'].isnull()]"
   ]
  },
  {
   "cell_type": "code",
   "execution_count": 6,
   "metadata": {},
   "outputs": [],
   "source": [
    "tracks.drop(removals, inplace=True)"
   ]
  },
  {
   "cell_type": "code",
   "execution_count": 7,
   "metadata": {},
   "outputs": [
    {
     "data": {
      "text/plain": [
       "(4521, 19)"
      ]
     },
     "execution_count": 7,
     "metadata": {},
     "output_type": "execute_result"
    }
   ],
   "source": [
    "## Only 4,521 of the 290,000+ observations are top 100 hits. \n",
    "tracks[tracks['top100']==1].shape"
   ]
  },
  {
   "cell_type": "code",
   "execution_count": 8,
   "metadata": {},
   "outputs": [],
   "source": [
    "## Dropping the year variable because I found it to be a potential data leak\n",
    "tracks.drop(columns=['year'], inplace=True)"
   ]
  },
  {
   "cell_type": "code",
   "execution_count": 9,
   "metadata": {},
   "outputs": [],
   "source": [
    "##Subset to only the numerical variables\n",
    "df2 = tracks[['acousticness', 'danceability',\n",
    "              'duration_ms', 'energy', 'instrumentalness', 'key', 'liveness',\n",
    "              'loudness', 'mode', 'speechiness', 'tempo', 'time_signature',\n",
    "              'valence', 'top100']]"
   ]
  },
  {
   "cell_type": "code",
   "execution_count": 10,
   "metadata": {},
   "outputs": [
    {
     "data": {
      "text/html": [
       "<div>\n",
       "<style scoped>\n",
       "    .dataframe tbody tr th:only-of-type {\n",
       "        vertical-align: middle;\n",
       "    }\n",
       "\n",
       "    .dataframe tbody tr th {\n",
       "        vertical-align: top;\n",
       "    }\n",
       "\n",
       "    .dataframe thead th {\n",
       "        text-align: right;\n",
       "    }\n",
       "</style>\n",
       "<table border=\"1\" class=\"dataframe\">\n",
       "  <thead>\n",
       "    <tr style=\"text-align: right;\">\n",
       "      <th></th>\n",
       "      <th>acousticness</th>\n",
       "      <th>danceability</th>\n",
       "      <th>duration_ms</th>\n",
       "      <th>energy</th>\n",
       "      <th>instrumentalness</th>\n",
       "      <th>key</th>\n",
       "      <th>liveness</th>\n",
       "      <th>loudness</th>\n",
       "      <th>mode</th>\n",
       "      <th>speechiness</th>\n",
       "      <th>tempo</th>\n",
       "      <th>time_signature</th>\n",
       "      <th>valence</th>\n",
       "      <th>top100</th>\n",
       "    </tr>\n",
       "  </thead>\n",
       "  <tbody>\n",
       "    <tr>\n",
       "      <th>0</th>\n",
       "      <td>0.714325</td>\n",
       "      <td>0.401781</td>\n",
       "      <td>-0.011676</td>\n",
       "      <td>-0.747917</td>\n",
       "      <td>-0.406609</td>\n",
       "      <td>1.620571</td>\n",
       "      <td>-0.540080</td>\n",
       "      <td>0.281681</td>\n",
       "      <td>-1.558545</td>\n",
       "      <td>1.471154</td>\n",
       "      <td>0.399915</td>\n",
       "      <td>0.247227</td>\n",
       "      <td>0.195740</td>\n",
       "      <td>0.0</td>\n",
       "    </tr>\n",
       "    <tr>\n",
       "      <th>1</th>\n",
       "      <td>-0.087223</td>\n",
       "      <td>0.619186</td>\n",
       "      <td>-0.784110</td>\n",
       "      <td>-0.735645</td>\n",
       "      <td>-0.406609</td>\n",
       "      <td>0.775555</td>\n",
       "      <td>-0.648399</td>\n",
       "      <td>-0.366737</td>\n",
       "      <td>0.641624</td>\n",
       "      <td>5.493649</td>\n",
       "      <td>1.337197</td>\n",
       "      <td>0.247227</td>\n",
       "      <td>0.041582</td>\n",
       "      <td>0.0</td>\n",
       "    </tr>\n",
       "    <tr>\n",
       "      <th>2</th>\n",
       "      <td>-0.470571</td>\n",
       "      <td>1.694461</td>\n",
       "      <td>0.918017</td>\n",
       "      <td>0.127452</td>\n",
       "      <td>-0.406609</td>\n",
       "      <td>0.775555</td>\n",
       "      <td>-0.667297</td>\n",
       "      <td>0.520996</td>\n",
       "      <td>0.641624</td>\n",
       "      <td>1.724479</td>\n",
       "      <td>-0.953583</td>\n",
       "      <td>0.247227</td>\n",
       "      <td>0.219456</td>\n",
       "      <td>0.0</td>\n",
       "    </tr>\n",
       "    <tr>\n",
       "      <th>3</th>\n",
       "      <td>1.699626</td>\n",
       "      <td>-0.785135</td>\n",
       "      <td>-1.407499</td>\n",
       "      <td>-1.557837</td>\n",
       "      <td>-0.406609</td>\n",
       "      <td>1.057227</td>\n",
       "      <td>1.902852</td>\n",
       "      <td>-0.310504</td>\n",
       "      <td>0.641624</td>\n",
       "      <td>-0.302121</td>\n",
       "      <td>-0.815965</td>\n",
       "      <td>-1.966343</td>\n",
       "      <td>0.389425</td>\n",
       "      <td>0.0</td>\n",
       "    </tr>\n",
       "    <tr>\n",
       "      <th>4</th>\n",
       "      <td>-0.356517</td>\n",
       "      <td>1.171513</td>\n",
       "      <td>-0.495683</td>\n",
       "      <td>0.446512</td>\n",
       "      <td>-0.406609</td>\n",
       "      <td>-0.914478</td>\n",
       "      <td>1.806057</td>\n",
       "      <td>0.632371</td>\n",
       "      <td>0.641624</td>\n",
       "      <td>1.425095</td>\n",
       "      <td>-0.608402</td>\n",
       "      <td>0.247227</td>\n",
       "      <td>1.100923</td>\n",
       "      <td>0.0</td>\n",
       "    </tr>\n",
       "  </tbody>\n",
       "</table>\n",
       "</div>"
      ],
      "text/plain": [
       "   acousticness  danceability  duration_ms    energy  instrumentalness  \\\n",
       "0      0.714325      0.401781    -0.011676 -0.747917         -0.406609   \n",
       "1     -0.087223      0.619186    -0.784110 -0.735645         -0.406609   \n",
       "2     -0.470571      1.694461     0.918017  0.127452         -0.406609   \n",
       "3      1.699626     -0.785135    -1.407499 -1.557837         -0.406609   \n",
       "4     -0.356517      1.171513    -0.495683  0.446512         -0.406609   \n",
       "\n",
       "        key  liveness  loudness      mode  speechiness     tempo  \\\n",
       "0  1.620571 -0.540080  0.281681 -1.558545     1.471154  0.399915   \n",
       "1  0.775555 -0.648399 -0.366737  0.641624     5.493649  1.337197   \n",
       "2  0.775555 -0.667297  0.520996  0.641624     1.724479 -0.953583   \n",
       "3  1.057227  1.902852 -0.310504  0.641624    -0.302121 -0.815965   \n",
       "4 -0.914478  1.806057  0.632371  0.641624     1.425095 -0.608402   \n",
       "\n",
       "   time_signature   valence  top100  \n",
       "0        0.247227  0.195740     0.0  \n",
       "1        0.247227  0.041582     0.0  \n",
       "2        0.247227  0.219456     0.0  \n",
       "3       -1.966343  0.389425     0.0  \n",
       "4        0.247227  1.100923     0.0  "
      ]
     },
     "execution_count": 10,
     "metadata": {},
     "output_type": "execute_result"
    }
   ],
   "source": [
    "## Going to scale all our features to see how hits differ from non-hits on the same scale\n",
    "ss = StandardScaler()\n",
    "scaled_features = pd.DataFrame(ss.fit_transform(df2.drop('top100', axis=1), df2['top100']))\n",
    "scaled_features = pd.DataFrame(pd.concat([scaled_features, df2['top100']], axis=1))\n",
    "scaled_features.columns = df2.columns\n",
    "scaled_features.head()"
   ]
  },
  {
   "cell_type": "code",
   "execution_count": 11,
   "metadata": {},
   "outputs": [
    {
     "data": {
      "image/png": "[encoded data removed]",
      "text/plain": [
       "<Figure size 1440x360 with 1 Axes>"
      ]
     },
     "metadata": {
      "needs_background": "light"
     },
     "output_type": "display_data"
    }
   ],
   "source": [
    "## Let's look at the (scaled) differences between hits and non-hits\n",
    "fig, ax1 = plt.subplots(figsize=(20,5))\n",
    "tidy2 = scaled_features.melt(id_vars='top100').rename(columns=str.title)\n",
    "#tidy3 = tidy2.sample(n=1000)\n",
    "sns.barplot(x='Variable', y='Value', hue='Top100', data=tidy2, ax=ax1)\n",
    "sns.despine(fig)"
   ]
  },
  {
   "cell_type": "code",
   "execution_count": 12,
   "metadata": {},
   "outputs": [
    {
     "data": {
      "text/html": [
       "<div>\n",
       "<style scoped>\n",
       "    .dataframe tbody tr th:only-of-type {\n",
       "        vertical-align: middle;\n",
       "    }\n",
       "\n",
       "    .dataframe tbody tr th {\n",
       "        vertical-align: top;\n",
       "    }\n",
       "\n",
       "    .dataframe thead th {\n",
       "        text-align: right;\n",
       "    }\n",
       "</style>\n",
       "<table border=\"1\" class=\"dataframe\">\n",
       "  <thead>\n",
       "    <tr style=\"text-align: right;\">\n",
       "      <th></th>\n",
       "      <th>top100</th>\n",
       "      <th>other</th>\n",
       "    </tr>\n",
       "  </thead>\n",
       "  <tbody>\n",
       "    <tr>\n",
       "      <th>acousticness</th>\n",
       "      <td>0.253845</td>\n",
       "      <td>0.299235</td>\n",
       "    </tr>\n",
       "    <tr>\n",
       "      <th>danceability</th>\n",
       "      <td>0.619139</td>\n",
       "      <td>0.539385</td>\n",
       "    </tr>\n",
       "    <tr>\n",
       "      <th>duration_ms</th>\n",
       "      <td>236487.830790</td>\n",
       "      <td>237971.909518</td>\n",
       "    </tr>\n",
       "    <tr>\n",
       "      <th>energy</th>\n",
       "      <td>0.624470</td>\n",
       "      <td>0.617738</td>\n",
       "    </tr>\n",
       "    <tr>\n",
       "      <th>instrumentalness</th>\n",
       "      <td>0.029598</td>\n",
       "      <td>0.098727</td>\n",
       "    </tr>\n",
       "    <tr>\n",
       "      <th>key</th>\n",
       "      <td>5.223402</td>\n",
       "      <td>5.246971</td>\n",
       "    </tr>\n",
       "    <tr>\n",
       "      <th>liveness</th>\n",
       "      <td>0.176781</td>\n",
       "      <td>0.236091</td>\n",
       "    </tr>\n",
       "    <tr>\n",
       "      <th>loudness</th>\n",
       "      <td>-8.662994</td>\n",
       "      <td>-9.162115</td>\n",
       "    </tr>\n",
       "    <tr>\n",
       "      <th>mode</th>\n",
       "      <td>0.704048</td>\n",
       "      <td>0.708443</td>\n",
       "    </tr>\n",
       "    <tr>\n",
       "      <th>speechiness</th>\n",
       "      <td>0.063522</td>\n",
       "      <td>0.092811</td>\n",
       "    </tr>\n",
       "    <tr>\n",
       "      <th>tempo</th>\n",
       "      <td>119.354481</td>\n",
       "      <td>119.873555</td>\n",
       "    </tr>\n",
       "    <tr>\n",
       "      <th>time_signature</th>\n",
       "      <td>3.960186</td>\n",
       "      <td>3.887181</td>\n",
       "    </tr>\n",
       "    <tr>\n",
       "      <th>valence</th>\n",
       "      <td>0.615800</td>\n",
       "      <td>0.511869</td>\n",
       "    </tr>\n",
       "    <tr>\n",
       "      <th>position</th>\n",
       "      <td>50.215218</td>\n",
       "      <td>NaN</td>\n",
       "    </tr>\n",
       "    <tr>\n",
       "      <th>top100</th>\n",
       "      <td>1.000000</td>\n",
       "      <td>0.000000</td>\n",
       "    </tr>\n",
       "  </tbody>\n",
       "</table>\n",
       "</div>"
      ],
      "text/plain": [
       "                         top100          other\n",
       "acousticness           0.253845       0.299235\n",
       "danceability           0.619139       0.539385\n",
       "duration_ms       236487.830790  237971.909518\n",
       "energy                 0.624470       0.617738\n",
       "instrumentalness       0.029598       0.098727\n",
       "key                    5.223402       5.246971\n",
       "liveness               0.176781       0.236091\n",
       "loudness              -8.662994      -9.162115\n",
       "mode                   0.704048       0.708443\n",
       "speechiness            0.063522       0.092811\n",
       "tempo                119.354481     119.873555\n",
       "time_signature         3.960186       3.887181\n",
       "valence                0.615800       0.511869\n",
       "position              50.215218            NaN\n",
       "top100                 1.000000       0.000000"
      ]
     },
     "execution_count": 12,
     "metadata": {},
     "output_type": "execute_result"
    }
   ],
   "source": [
    "##Lets look at how the mean of each column differs between hits and non-hits\n",
    "top100 = tracks[tracks['top100']==1]\n",
    "other = tracks[tracks['top100']==0]\n",
    "top100_mean = pd.DataFrame(top100.describe().T['mean']) #Mean values of top 100\n",
    "other_mean = pd.DataFrame(other.describe().T['mean'])   #Mean values of non-hits\n",
    "compare_means = pd.concat([top100_mean, other_mean], axis=1)\n",
    "compare_means.columns = ['top100', 'other']\n",
    "compare_means"
   ]
  },
  {
   "cell_type": "markdown",
   "metadata": {},
   "source": [
    "## Bootstrapping"
   ]
  },
  {
   "cell_type": "markdown",
   "metadata": {},
   "source": [
    "### Upsample"
   ]
  },
  {
   "cell_type": "code",
   "execution_count": 13,
   "metadata": {},
   "outputs": [
    {
     "data": {
      "text/html": [
       "<div>\n",
       "<style scoped>\n",
       "    .dataframe tbody tr th:only-of-type {\n",
       "        vertical-align: middle;\n",
       "    }\n",
       "\n",
       "    .dataframe tbody tr th {\n",
       "        vertical-align: top;\n",
       "    }\n",
       "\n",
       "    .dataframe thead th {\n",
       "        text-align: right;\n",
       "    }\n",
       "</style>\n",
       "<table border=\"1\" class=\"dataframe\">\n",
       "  <thead>\n",
       "    <tr style=\"text-align: right;\">\n",
       "      <th></th>\n",
       "      <th>id</th>\n",
       "      <th>song</th>\n",
       "      <th>artist</th>\n",
       "      <th>acousticness</th>\n",
       "      <th>danceability</th>\n",
       "      <th>duration_ms</th>\n",
       "      <th>energy</th>\n",
       "      <th>instrumentalness</th>\n",
       "      <th>key</th>\n",
       "      <th>liveness</th>\n",
       "      <th>loudness</th>\n",
       "      <th>mode</th>\n",
       "      <th>speechiness</th>\n",
       "      <th>tempo</th>\n",
       "      <th>time_signature</th>\n",
       "      <th>valence</th>\n",
       "      <th>position</th>\n",
       "      <th>top100</th>\n",
       "    </tr>\n",
       "  </thead>\n",
       "  <tbody>\n",
       "    <tr>\n",
       "      <th>0</th>\n",
       "      <td>4TTV7EcfroSLWzXRY6gLv6</td>\n",
       "      <td>Alexander Hamilton</td>\n",
       "      <td>Original Broadway Cast Recording</td>\n",
       "      <td>0.524</td>\n",
       "      <td>0.609</td>\n",
       "      <td>236738.0</td>\n",
       "      <td>0.435</td>\n",
       "      <td>0.0</td>\n",
       "      <td>11.0</td>\n",
       "      <td>0.1180</td>\n",
       "      <td>-7.862</td>\n",
       "      <td>0.0</td>\n",
       "      <td>0.284</td>\n",
       "      <td>131.998</td>\n",
       "      <td>4.0</td>\n",
       "      <td>0.563</td>\n",
       "      <td>NaN</td>\n",
       "      <td>0</td>\n",
       "    </tr>\n",
       "    <tr>\n",
       "      <th>1</th>\n",
       "      <td>6dr7ekfhlbquvsVY8D7gyk</td>\n",
       "      <td>Aaron Burr, Sir</td>\n",
       "      <td>Original Broadway Cast Recording</td>\n",
       "      <td>0.271</td>\n",
       "      <td>0.646</td>\n",
       "      <td>156631.0</td>\n",
       "      <td>0.438</td>\n",
       "      <td>0.0</td>\n",
       "      <td>8.0</td>\n",
       "      <td>0.0945</td>\n",
       "      <td>-10.837</td>\n",
       "      <td>1.0</td>\n",
       "      <td>0.808</td>\n",
       "      <td>160.433</td>\n",
       "      <td>4.0</td>\n",
       "      <td>0.524</td>\n",
       "      <td>NaN</td>\n",
       "      <td>0</td>\n",
       "    </tr>\n",
       "    <tr>\n",
       "      <th>2</th>\n",
       "      <td>4cxvludVmQxryrnx1m9FqL</td>\n",
       "      <td>My Shot</td>\n",
       "      <td>Original Broadway Cast Recording</td>\n",
       "      <td>0.150</td>\n",
       "      <td>0.829</td>\n",
       "      <td>333154.0</td>\n",
       "      <td>0.649</td>\n",
       "      <td>0.0</td>\n",
       "      <td>8.0</td>\n",
       "      <td>0.0904</td>\n",
       "      <td>-6.764</td>\n",
       "      <td>1.0</td>\n",
       "      <td>0.317</td>\n",
       "      <td>90.936</td>\n",
       "      <td>4.0</td>\n",
       "      <td>0.569</td>\n",
       "      <td>NaN</td>\n",
       "      <td>0</td>\n",
       "    </tr>\n",
       "    <tr>\n",
       "      <th>3</th>\n",
       "      <td>0NJWhm3hUwIZSy5s0TGJ8q</td>\n",
       "      <td>The Story of Tonight</td>\n",
       "      <td>Original Broadway Cast Recording</td>\n",
       "      <td>0.835</td>\n",
       "      <td>0.407</td>\n",
       "      <td>91981.0</td>\n",
       "      <td>0.237</td>\n",
       "      <td>0.0</td>\n",
       "      <td>9.0</td>\n",
       "      <td>0.6480</td>\n",
       "      <td>-10.579</td>\n",
       "      <td>1.0</td>\n",
       "      <td>0.053</td>\n",
       "      <td>95.111</td>\n",
       "      <td>3.0</td>\n",
       "      <td>0.612</td>\n",
       "      <td>NaN</td>\n",
       "      <td>0</td>\n",
       "    </tr>\n",
       "    <tr>\n",
       "      <th>4</th>\n",
       "      <td>71X7bPDljJHrmEGYCe7kQ8</td>\n",
       "      <td>The Schuyler Sisters</td>\n",
       "      <td>Original Broadway Cast Recording</td>\n",
       "      <td>0.186</td>\n",
       "      <td>0.740</td>\n",
       "      <td>186543.0</td>\n",
       "      <td>0.727</td>\n",
       "      <td>0.0</td>\n",
       "      <td>2.0</td>\n",
       "      <td>0.6270</td>\n",
       "      <td>-6.253</td>\n",
       "      <td>1.0</td>\n",
       "      <td>0.278</td>\n",
       "      <td>101.408</td>\n",
       "      <td>4.0</td>\n",
       "      <td>0.792</td>\n",
       "      <td>NaN</td>\n",
       "      <td>0</td>\n",
       "    </tr>\n",
       "  </tbody>\n",
       "</table>\n",
       "</div>"
      ],
      "text/plain": [
       "                       id                  song  \\\n",
       "0  4TTV7EcfroSLWzXRY6gLv6    Alexander Hamilton   \n",
       "1  6dr7ekfhlbquvsVY8D7gyk       Aaron Burr, Sir   \n",
       "2  4cxvludVmQxryrnx1m9FqL               My Shot   \n",
       "3  0NJWhm3hUwIZSy5s0TGJ8q  The Story of Tonight   \n",
       "4  71X7bPDljJHrmEGYCe7kQ8  The Schuyler Sisters   \n",
       "\n",
       "                             artist  acousticness  danceability  duration_ms  \\\n",
       "0  Original Broadway Cast Recording         0.524         0.609     236738.0   \n",
       "1  Original Broadway Cast Recording         0.271         0.646     156631.0   \n",
       "2  Original Broadway Cast Recording         0.150         0.829     333154.0   \n",
       "3  Original Broadway Cast Recording         0.835         0.407      91981.0   \n",
       "4  Original Broadway Cast Recording         0.186         0.740     186543.0   \n",
       "\n",
       "   energy  instrumentalness   key  liveness  loudness  mode  speechiness  \\\n",
       "0   0.435               0.0  11.0    0.1180    -7.862   0.0        0.284   \n",
       "1   0.438               0.0   8.0    0.0945   -10.837   1.0        0.808   \n",
       "2   0.649               0.0   8.0    0.0904    -6.764   1.0        0.317   \n",
       "3   0.237               0.0   9.0    0.6480   -10.579   1.0        0.053   \n",
       "4   0.727               0.0   2.0    0.6270    -6.253   1.0        0.278   \n",
       "\n",
       "     tempo  time_signature  valence  position  top100  \n",
       "0  131.998             4.0    0.563       NaN       0  \n",
       "1  160.433             4.0    0.524       NaN       0  \n",
       "2   90.936             4.0    0.569       NaN       0  \n",
       "3   95.111             3.0    0.612       NaN       0  \n",
       "4  101.408             4.0    0.792       NaN       0  "
      ]
     },
     "execution_count": 13,
     "metadata": {},
     "output_type": "execute_result"
    }
   ],
   "source": [
    "tracks.head()"
   ]
  },
  {
   "cell_type": "code",
   "execution_count": 14,
   "metadata": {
    "scrolled": true
   },
   "outputs": [
    {
     "data": {
      "text/html": [
       "<div>\n",
       "<style scoped>\n",
       "    .dataframe tbody tr th:only-of-type {\n",
       "        vertical-align: middle;\n",
       "    }\n",
       "\n",
       "    .dataframe tbody tr th {\n",
       "        vertical-align: top;\n",
       "    }\n",
       "\n",
       "    .dataframe thead th {\n",
       "        text-align: right;\n",
       "    }\n",
       "</style>\n",
       "<table border=\"1\" class=\"dataframe\">\n",
       "  <thead>\n",
       "    <tr style=\"text-align: right;\">\n",
       "      <th></th>\n",
       "      <th>acousticness</th>\n",
       "      <th>danceability</th>\n",
       "      <th>duration_ms</th>\n",
       "      <th>energy</th>\n",
       "      <th>instrumentalness</th>\n",
       "      <th>key</th>\n",
       "      <th>liveness</th>\n",
       "      <th>loudness</th>\n",
       "      <th>mode</th>\n",
       "      <th>speechiness</th>\n",
       "      <th>tempo</th>\n",
       "      <th>time_signature</th>\n",
       "      <th>valence</th>\n",
       "      <th>top100</th>\n",
       "    </tr>\n",
       "  </thead>\n",
       "  <tbody>\n",
       "    <tr>\n",
       "      <th>0</th>\n",
       "      <td>0.714325</td>\n",
       "      <td>0.401781</td>\n",
       "      <td>-0.011676</td>\n",
       "      <td>-0.747917</td>\n",
       "      <td>-0.406609</td>\n",
       "      <td>1.620571</td>\n",
       "      <td>-0.540080</td>\n",
       "      <td>0.281681</td>\n",
       "      <td>-1.558545</td>\n",
       "      <td>1.471154</td>\n",
       "      <td>0.399915</td>\n",
       "      <td>0.247227</td>\n",
       "      <td>0.195740</td>\n",
       "      <td>0.0</td>\n",
       "    </tr>\n",
       "    <tr>\n",
       "      <th>1</th>\n",
       "      <td>-0.087223</td>\n",
       "      <td>0.619186</td>\n",
       "      <td>-0.784110</td>\n",
       "      <td>-0.735645</td>\n",
       "      <td>-0.406609</td>\n",
       "      <td>0.775555</td>\n",
       "      <td>-0.648399</td>\n",
       "      <td>-0.366737</td>\n",
       "      <td>0.641624</td>\n",
       "      <td>5.493649</td>\n",
       "      <td>1.337197</td>\n",
       "      <td>0.247227</td>\n",
       "      <td>0.041582</td>\n",
       "      <td>0.0</td>\n",
       "    </tr>\n",
       "    <tr>\n",
       "      <th>2</th>\n",
       "      <td>-0.470571</td>\n",
       "      <td>1.694461</td>\n",
       "      <td>0.918017</td>\n",
       "      <td>0.127452</td>\n",
       "      <td>-0.406609</td>\n",
       "      <td>0.775555</td>\n",
       "      <td>-0.667297</td>\n",
       "      <td>0.520996</td>\n",
       "      <td>0.641624</td>\n",
       "      <td>1.724479</td>\n",
       "      <td>-0.953583</td>\n",
       "      <td>0.247227</td>\n",
       "      <td>0.219456</td>\n",
       "      <td>0.0</td>\n",
       "    </tr>\n",
       "    <tr>\n",
       "      <th>3</th>\n",
       "      <td>1.699626</td>\n",
       "      <td>-0.785135</td>\n",
       "      <td>-1.407499</td>\n",
       "      <td>-1.557837</td>\n",
       "      <td>-0.406609</td>\n",
       "      <td>1.057227</td>\n",
       "      <td>1.902852</td>\n",
       "      <td>-0.310504</td>\n",
       "      <td>0.641624</td>\n",
       "      <td>-0.302121</td>\n",
       "      <td>-0.815965</td>\n",
       "      <td>-1.966343</td>\n",
       "      <td>0.389425</td>\n",
       "      <td>0.0</td>\n",
       "    </tr>\n",
       "    <tr>\n",
       "      <th>4</th>\n",
       "      <td>-0.356517</td>\n",
       "      <td>1.171513</td>\n",
       "      <td>-0.495683</td>\n",
       "      <td>0.446512</td>\n",
       "      <td>-0.406609</td>\n",
       "      <td>-0.914478</td>\n",
       "      <td>1.806057</td>\n",
       "      <td>0.632371</td>\n",
       "      <td>0.641624</td>\n",
       "      <td>1.425095</td>\n",
       "      <td>-0.608402</td>\n",
       "      <td>0.247227</td>\n",
       "      <td>1.100923</td>\n",
       "      <td>0.0</td>\n",
       "    </tr>\n",
       "  </tbody>\n",
       "</table>\n",
       "</div>"
      ],
      "text/plain": [
       "   acousticness  danceability  duration_ms    energy  instrumentalness  \\\n",
       "0      0.714325      0.401781    -0.011676 -0.747917         -0.406609   \n",
       "1     -0.087223      0.619186    -0.784110 -0.735645         -0.406609   \n",
       "2     -0.470571      1.694461     0.918017  0.127452         -0.406609   \n",
       "3      1.699626     -0.785135    -1.407499 -1.557837         -0.406609   \n",
       "4     -0.356517      1.171513    -0.495683  0.446512         -0.406609   \n",
       "\n",
       "        key  liveness  loudness      mode  speechiness     tempo  \\\n",
       "0  1.620571 -0.540080  0.281681 -1.558545     1.471154  0.399915   \n",
       "1  0.775555 -0.648399 -0.366737  0.641624     5.493649  1.337197   \n",
       "2  0.775555 -0.667297  0.520996  0.641624     1.724479 -0.953583   \n",
       "3  1.057227  1.902852 -0.310504  0.641624    -0.302121 -0.815965   \n",
       "4 -0.914478  1.806057  0.632371  0.641624     1.425095 -0.608402   \n",
       "\n",
       "   time_signature   valence  top100  \n",
       "0        0.247227  0.195740     0.0  \n",
       "1        0.247227  0.041582     0.0  \n",
       "2        0.247227  0.219456     0.0  \n",
       "3       -1.966343  0.389425     0.0  \n",
       "4        0.247227  1.100923     0.0  "
      ]
     },
     "execution_count": 14,
     "metadata": {},
     "output_type": "execute_result"
    }
   ],
   "source": [
    "scaled_features.head()"
   ]
  },
  {
   "cell_type": "code",
   "execution_count": 15,
   "metadata": {},
   "outputs": [],
   "source": [
    "scaled_features.dropna(inplace=True)"
   ]
  },
  {
   "cell_type": "code",
   "execution_count": 16,
   "metadata": {},
   "outputs": [],
   "source": [
    "df_majority = tracks[tracks['top100']==0]"
   ]
  },
  {
   "cell_type": "code",
   "execution_count": 17,
   "metadata": {},
   "outputs": [],
   "source": [
    "df_minority = tracks[tracks['top100']==1]"
   ]
  },
  {
   "cell_type": "code",
   "execution_count": 18,
   "metadata": {},
   "outputs": [],
   "source": [
    "##Code from https://elitedatascience.com/imbalanced-classes\n",
    "df_minority_upsampled = resample(df_minority, \n",
    "                                 replace=True,     # sample with replacement\n",
    "                                 n_samples=df_majority.shape[0],    # to match majority class\n",
    "                                 random_state=13) # reproducible results"
   ]
  },
  {
   "cell_type": "code",
   "execution_count": 19,
   "metadata": {},
   "outputs": [
    {
     "data": {
      "text/plain": [
       "(287107, 18)"
      ]
     },
     "execution_count": 19,
     "metadata": {},
     "output_type": "execute_result"
    }
   ],
   "source": [
    "##Minority class (top 100 hits) has been upsampled to match the majority class (non-hits)\n",
    "df_minority_upsampled.shape"
   ]
  },
  {
   "cell_type": "code",
   "execution_count": 20,
   "metadata": {},
   "outputs": [],
   "source": [
    "##Combine the two datasets back together\n",
    "tracks_upsampled = pd.concat([df_majority, df_minority_upsampled])"
   ]
  },
  {
   "cell_type": "code",
   "execution_count": 21,
   "metadata": {},
   "outputs": [
    {
     "data": {
      "text/plain": [
       "(574214, 18)"
      ]
     },
     "execution_count": 21,
     "metadata": {},
     "output_type": "execute_result"
    }
   ],
   "source": [
    "## Now we have 574,218 observations, 50% hits and 50% non-hits\n",
    "tracks_upsampled.shape"
   ]
  },
  {
   "cell_type": "markdown",
   "metadata": {},
   "source": [
    "### Downsample"
   ]
  },
  {
   "cell_type": "code",
   "execution_count": 22,
   "metadata": {},
   "outputs": [],
   "source": [
    "##Code from https://elitedatascience.com/imbalanced-classes\n",
    "df_majority_downsampled = resample(df_majority, \n",
    "                                 replace=False,                     # sample with replacement\n",
    "                                 n_samples=df_minority.shape[0],    # to match minority class\n",
    "                                 random_state=13)                   # reproducible results"
   ]
  },
  {
   "cell_type": "code",
   "execution_count": 23,
   "metadata": {},
   "outputs": [
    {
     "data": {
      "text/plain": [
       "(4521, 18)"
      ]
     },
     "execution_count": 23,
     "metadata": {},
     "output_type": "execute_result"
    }
   ],
   "source": [
    "## Majority class (non-hits) has been downsampled to match the minority class (top 100 hits)\n",
    "df_majority_downsampled.shape"
   ]
  },
  {
   "cell_type": "code",
   "execution_count": 24,
   "metadata": {},
   "outputs": [],
   "source": [
    "##Combine the two datasets back together\n",
    "tracks_downsampled = pd.concat([df_minority, df_majority_downsampled])"
   ]
  },
  {
   "cell_type": "code",
   "execution_count": 25,
   "metadata": {
    "scrolled": true
   },
   "outputs": [
    {
     "data": {
      "text/plain": [
       "(9042, 18)"
      ]
     },
     "execution_count": 25,
     "metadata": {},
     "output_type": "execute_result"
    }
   ],
   "source": [
    "## Now we have 9,042 observations, 50% hits and 50% non-hits\n",
    "tracks_downsampled.shape"
   ]
  },
  {
   "cell_type": "markdown",
   "metadata": {},
   "source": [
    "### SMOTE"
   ]
  },
  {
   "cell_type": "code",
   "execution_count": 26,
   "metadata": {},
   "outputs": [
    {
     "name": "stderr",
     "output_type": "stream",
     "text": [
      "/Users/jcacho/anaconda3/envs/DSI/lib/python3.7/site-packages/pandas/core/frame.py:3940: SettingWithCopyWarning: \n",
      "A value is trying to be set on a copy of a slice from a DataFrame\n",
      "\n",
      "See the caveats in the documentation: http://pandas.pydata.org/pandas-docs/stable/indexing.html#indexing-view-versus-copy\n",
      "  errors=errors)\n"
     ]
    }
   ],
   "source": [
    "## From https://stackoverflow.com/questions/25039626/how-do-i-find-numeric-columns-in-pandas/43982712\n",
    "numerics = ['int16', 'int32', 'int64', 'float16', 'float32', 'float64']\n",
    "X = tracks.select_dtypes(include=numerics)\n",
    "y = X['top100']\n",
    "try:\n",
    "    X.drop(['top100', 'position'], axis=1, inplace=True)\n",
    "except:\n",
    "    X.drop(['top100'], axis=1, inplace=True)\n",
    "\n"
   ]
  },
  {
   "cell_type": "code",
   "execution_count": 27,
   "metadata": {},
   "outputs": [],
   "source": [
    "## Synthetic Minority Oversampling Technique\n",
    "## We are running this because of our 290,000+ observations, only about ~5,000 are in the minority class\n",
    "## This type of imbalance will bias the model too heavily\n",
    "sm = SMOTE()\n",
    "X_res, y_res = sm.fit_resample(X, y)"
   ]
  },
  {
   "cell_type": "code",
   "execution_count": 28,
   "metadata": {},
   "outputs": [
    {
     "data": {
      "text/plain": [
       "0.015502626633930898"
      ]
     },
     "execution_count": 28,
     "metadata": {},
     "output_type": "execute_result"
    }
   ],
   "source": [
    "y.mean()"
   ]
  },
  {
   "cell_type": "code",
   "execution_count": 29,
   "metadata": {},
   "outputs": [
    {
     "data": {
      "text/plain": [
       "0.5"
      ]
     },
     "execution_count": 29,
     "metadata": {},
     "output_type": "execute_result"
    }
   ],
   "source": [
    "y_res.mean()"
   ]
  },
  {
   "cell_type": "markdown",
   "metadata": {},
   "source": [
    "## Train/Test Split"
   ]
  },
  {
   "cell_type": "code",
   "execution_count": 30,
   "metadata": {},
   "outputs": [],
   "source": [
    "# ## From https://stackoverflow.com/questions/25039626/how-do-i-find-numeric-columns-in-pandas/43982712\n",
    "# numerics = ['int16', 'int32', 'int64', 'float16', 'float32', 'float64']\n",
    "# X = tracks_upsampled.select_dtypes(include=numerics)\n",
    "# y = X['top100']\n",
    "# X.drop(['top100', 'position'], axis=1, inplace=True)"
   ]
  },
  {
   "cell_type": "code",
   "execution_count": 31,
   "metadata": {},
   "outputs": [],
   "source": [
    "X_train, X_test, y_train, y_test = train_test_split(X_res, y_res, stratify=y_res, random_state=13)"
   ]
  },
  {
   "cell_type": "markdown",
   "metadata": {},
   "source": [
    "## Logistic Regression"
   ]
  },
  {
   "cell_type": "code",
   "execution_count": 32,
   "metadata": {},
   "outputs": [
    {
     "name": "stderr",
     "output_type": "stream",
     "text": [
      "/Users/jcacho/anaconda3/envs/DSI/lib/python3.7/site-packages/sklearn/linear_model/logistic.py:433: FutureWarning: Default solver will be changed to 'lbfgs' in 0.22. Specify a solver to silence this warning.\n",
      "  FutureWarning)\n"
     ]
    }
   ],
   "source": [
    "## Training a Logistic Regression model for baseline accuracy\n",
    "logreg = LogisticRegression()\n",
    "\n",
    "# Train model\n",
    "logreg.fit(X_train, y_train)\n",
    " \n",
    "# Predict on training set\n",
    "pred_train = logreg.predict(X_train)\n",
    "pred_test = logreg.predict(X_test)"
   ]
  },
  {
   "cell_type": "code",
   "execution_count": 33,
   "metadata": {},
   "outputs": [
    {
     "name": "stdout",
     "output_type": "stream",
     "text": [
      "0.660086843449589\n"
     ]
    }
   ],
   "source": [
    "##Training Accuracy\n",
    "print(accuracy_score(pred_train, y_train))"
   ]
  },
  {
   "cell_type": "code",
   "execution_count": 34,
   "metadata": {},
   "outputs": [
    {
     "name": "stdout",
     "output_type": "stream",
     "text": [
      "0.656540395948563\n"
     ]
    }
   ],
   "source": [
    "##Testing Accuracy\n",
    "print(accuracy_score(pred_test, y_test))"
   ]
  },
  {
   "cell_type": "code",
   "execution_count": 35,
   "metadata": {},
   "outputs": [],
   "source": [
    "logreg_score = accuracy_score(pred_test, y_test)"
   ]
  },
  {
   "cell_type": "markdown",
   "metadata": {},
   "source": [
    "## KNN"
   ]
  },
  {
   "cell_type": "code",
   "execution_count": 36,
   "metadata": {},
   "outputs": [
    {
     "data": {
      "text/plain": [
       "KNeighborsClassifier(algorithm='auto', leaf_size=30, metric='minkowski',\n",
       "           metric_params=None, n_jobs=None, n_neighbors=5, p=2,\n",
       "           weights='uniform')"
      ]
     },
     "execution_count": 36,
     "metadata": {},
     "output_type": "execute_result"
    }
   ],
   "source": [
    "knn_class = KNeighborsClassifier()\n",
    "knn_class.fit(X_train, y_train)"
   ]
  },
  {
   "cell_type": "code",
   "execution_count": 37,
   "metadata": {},
   "outputs": [],
   "source": [
    "# Predict on training set\n",
    "pred_train = knn_class.predict(X_train)\n",
    "pred_test = knn_class.predict(X_test)"
   ]
  },
  {
   "cell_type": "code",
   "execution_count": 38,
   "metadata": {},
   "outputs": [
    {
     "name": "stdout",
     "output_type": "stream",
     "text": [
      "0.8783216458459109\n",
      "0.8226869331401424\n"
     ]
    }
   ],
   "source": [
    "##Training Accuracy\n",
    "print(accuracy_score(pred_train, y_train))\n",
    "\n",
    "##Testing Accuracy\n",
    "print(accuracy_score(pred_test, y_test))"
   ]
  },
  {
   "cell_type": "code",
   "execution_count": 39,
   "metadata": {},
   "outputs": [],
   "source": [
    "knn_score = accuracy_score(pred_test, y_test)"
   ]
  },
  {
   "cell_type": "markdown",
   "metadata": {},
   "source": [
    "## Decision Tree Classifier"
   ]
  },
  {
   "cell_type": "code",
   "execution_count": 40,
   "metadata": {},
   "outputs": [
    {
     "data": {
      "text/plain": [
       "DecisionTreeClassifier(class_weight=None, criterion='gini', max_depth=None,\n",
       "            max_features=None, max_leaf_nodes=None,\n",
       "            min_impurity_decrease=0.0, min_impurity_split=None,\n",
       "            min_samples_leaf=1, min_samples_split=2,\n",
       "            min_weight_fraction_leaf=0.0, presort=False, random_state=None,\n",
       "            splitter='best')"
      ]
     },
     "execution_count": 40,
     "metadata": {},
     "output_type": "execute_result"
    }
   ],
   "source": [
    "cart_class = DecisionTreeClassifier()\n",
    "cart_class.fit(X_train, y_train)"
   ]
  },
  {
   "cell_type": "code",
   "execution_count": 41,
   "metadata": {},
   "outputs": [],
   "source": [
    "# Predict on training set\n",
    "pred_train = cart_class.predict(X_train)\n",
    "pred_test = cart_class.predict(X_test)"
   ]
  },
  {
   "cell_type": "code",
   "execution_count": 42,
   "metadata": {},
   "outputs": [
    {
     "name": "stdout",
     "output_type": "stream",
     "text": [
      "0.9998699670273533\n",
      "0.9700530810705379\n"
     ]
    }
   ],
   "source": [
    "##Training Accuracy\n",
    "print(accuracy_score(pred_train, y_train))\n",
    "\n",
    "##Testing Accuracy\n",
    "print(accuracy_score(pred_test, y_test))"
   ]
  },
  {
   "cell_type": "code",
   "execution_count": 43,
   "metadata": {},
   "outputs": [],
   "source": [
    "dt_score = accuracy_score(pred_test, y_test)"
   ]
  },
  {
   "cell_type": "code",
   "execution_count": 44,
   "metadata": {},
   "outputs": [
    {
     "data": {
      "text/html": [
       "<div>\n",
       "<style scoped>\n",
       "    .dataframe tbody tr th:only-of-type {\n",
       "        vertical-align: middle;\n",
       "    }\n",
       "\n",
       "    .dataframe tbody tr th {\n",
       "        vertical-align: top;\n",
       "    }\n",
       "\n",
       "    .dataframe thead th {\n",
       "        text-align: right;\n",
       "    }\n",
       "</style>\n",
       "<table border=\"1\" class=\"dataframe\">\n",
       "  <thead>\n",
       "    <tr style=\"text-align: right;\">\n",
       "      <th></th>\n",
       "      <th>0</th>\n",
       "      <th>1</th>\n",
       "    </tr>\n",
       "  </thead>\n",
       "  <tbody>\n",
       "    <tr>\n",
       "      <th>0</th>\n",
       "      <td>acousticness</td>\n",
       "      <td>0.057796</td>\n",
       "    </tr>\n",
       "    <tr>\n",
       "      <th>1</th>\n",
       "      <td>danceability</td>\n",
       "      <td>0.083011</td>\n",
       "    </tr>\n",
       "    <tr>\n",
       "      <th>2</th>\n",
       "      <td>duration_ms</td>\n",
       "      <td>0.043706</td>\n",
       "    </tr>\n",
       "    <tr>\n",
       "      <th>3</th>\n",
       "      <td>energy</td>\n",
       "      <td>0.027039</td>\n",
       "    </tr>\n",
       "    <tr>\n",
       "      <th>4</th>\n",
       "      <td>instrumentalness</td>\n",
       "      <td>0.016315</td>\n",
       "    </tr>\n",
       "    <tr>\n",
       "      <th>5</th>\n",
       "      <td>key</td>\n",
       "      <td>0.416784</td>\n",
       "    </tr>\n",
       "    <tr>\n",
       "      <th>6</th>\n",
       "      <td>liveness</td>\n",
       "      <td>0.018358</td>\n",
       "    </tr>\n",
       "    <tr>\n",
       "      <th>7</th>\n",
       "      <td>loudness</td>\n",
       "      <td>0.012972</td>\n",
       "    </tr>\n",
       "    <tr>\n",
       "      <th>8</th>\n",
       "      <td>mode</td>\n",
       "      <td>0.222744</td>\n",
       "    </tr>\n",
       "    <tr>\n",
       "      <th>9</th>\n",
       "      <td>speechiness</td>\n",
       "      <td>0.033610</td>\n",
       "    </tr>\n",
       "    <tr>\n",
       "      <th>10</th>\n",
       "      <td>tempo</td>\n",
       "      <td>0.014136</td>\n",
       "    </tr>\n",
       "    <tr>\n",
       "      <th>11</th>\n",
       "      <td>time_signature</td>\n",
       "      <td>0.038141</td>\n",
       "    </tr>\n",
       "    <tr>\n",
       "      <th>12</th>\n",
       "      <td>valence</td>\n",
       "      <td>0.015386</td>\n",
       "    </tr>\n",
       "  </tbody>\n",
       "</table>\n",
       "</div>"
      ],
      "text/plain": [
       "                   0         1\n",
       "0       acousticness  0.057796\n",
       "1       danceability  0.083011\n",
       "2        duration_ms  0.043706\n",
       "3             energy  0.027039\n",
       "4   instrumentalness  0.016315\n",
       "5                key  0.416784\n",
       "6           liveness  0.018358\n",
       "7           loudness  0.012972\n",
       "8               mode  0.222744\n",
       "9        speechiness  0.033610\n",
       "10             tempo  0.014136\n",
       "11    time_signature  0.038141\n",
       "12           valence  0.015386"
      ]
     },
     "execution_count": 44,
     "metadata": {},
     "output_type": "execute_result"
    }
   ],
   "source": [
    "coefficients = pd.Series(cart_class.feature_importances_)\n",
    "features = pd.Series(X.columns)\n",
    "pd.concat([features, coefficients], axis=1)"
   ]
  },
  {
   "cell_type": "code",
   "execution_count": 45,
   "metadata": {},
   "outputs": [
    {
     "data": {
      "text/plain": [
       "1    287107\n",
       "0    287107\n",
       "Name: top100, dtype: int64"
      ]
     },
     "execution_count": 45,
     "metadata": {},
     "output_type": "execute_result"
    }
   ],
   "source": [
    "tracks_upsampled['top100'].value_counts()"
   ]
  },
  {
   "cell_type": "markdown",
   "metadata": {},
   "source": [
    "## Bagged Classifier"
   ]
  },
  {
   "cell_type": "code",
   "execution_count": 46,
   "metadata": {},
   "outputs": [
    {
     "data": {
      "text/plain": [
       "BaggingClassifier(base_estimator=None, bootstrap=True,\n",
       "         bootstrap_features=False, max_features=1.0, max_samples=1.0,\n",
       "         n_estimators=10, n_jobs=None, oob_score=False, random_state=None,\n",
       "         verbose=0, warm_start=False)"
      ]
     },
     "execution_count": 46,
     "metadata": {},
     "output_type": "execute_result"
    }
   ],
   "source": [
    "bagged_class = BaggingClassifier()\n",
    "bagged_class.fit(X_train, y_train)"
   ]
  },
  {
   "cell_type": "code",
   "execution_count": 47,
   "metadata": {},
   "outputs": [],
   "source": [
    "# Predict on training set\n",
    "pred_train = bagged_class.predict(X_train)\n",
    "pred_test = bagged_class.predict(X_test)"
   ]
  },
  {
   "cell_type": "code",
   "execution_count": 48,
   "metadata": {},
   "outputs": [
    {
     "name": "stdout",
     "output_type": "stream",
     "text": [
      "0.9981795383829472\n",
      "0.9864789556543182\n"
     ]
    }
   ],
   "source": [
    "##Training Accuracy\n",
    "print(accuracy_score(pred_train, y_train))\n",
    "\n",
    "##Testing Accuracy\n",
    "print(accuracy_score(pred_test, y_test))"
   ]
  },
  {
   "cell_type": "code",
   "execution_count": 49,
   "metadata": {},
   "outputs": [],
   "source": [
    "bag_score = accuracy_score(pred_test, y_test)"
   ]
  },
  {
   "cell_type": "markdown",
   "metadata": {},
   "source": [
    "## Random Forest"
   ]
  },
  {
   "cell_type": "code",
   "execution_count": 50,
   "metadata": {},
   "outputs": [
    {
     "name": "stderr",
     "output_type": "stream",
     "text": [
      "/Users/jcacho/anaconda3/envs/DSI/lib/python3.7/site-packages/sklearn/ensemble/forest.py:246: FutureWarning: The default value of n_estimators will change from 10 in version 0.20 to 100 in 0.22.\n",
      "  \"10 in version 0.20 to 100 in 0.22.\", FutureWarning)\n"
     ]
    },
    {
     "data": {
      "text/plain": [
       "RandomForestClassifier(bootstrap=True, class_weight=None, criterion='gini',\n",
       "            max_depth=None, max_features='auto', max_leaf_nodes=None,\n",
       "            min_impurity_decrease=0.0, min_impurity_split=None,\n",
       "            min_samples_leaf=1, min_samples_split=2,\n",
       "            min_weight_fraction_leaf=0.0, n_estimators=10, n_jobs=None,\n",
       "            oob_score=False, random_state=None, verbose=0,\n",
       "            warm_start=False)"
      ]
     },
     "execution_count": 50,
     "metadata": {},
     "output_type": "execute_result"
    }
   ],
   "source": [
    "random_forest_class = RandomForestClassifier()\n",
    "random_forest_class.fit(X_train, y_train)"
   ]
  },
  {
   "cell_type": "code",
   "execution_count": 51,
   "metadata": {},
   "outputs": [],
   "source": [
    "# Predict on training set\n",
    "pred_train = random_forest_class.predict(X_train)\n",
    "pred_test = random_forest_class.predict(X_test)"
   ]
  },
  {
   "cell_type": "code",
   "execution_count": 52,
   "metadata": {},
   "outputs": [
    {
     "name": "stdout",
     "output_type": "stream",
     "text": [
      "0.9988041610551247\n",
      "0.9817559942599997\n"
     ]
    }
   ],
   "source": [
    "##Training Accuracy\n",
    "print(accuracy_score(pred_train, y_train))\n",
    "\n",
    "##Testing Accuracy\n",
    "print(accuracy_score(pred_test, y_test))"
   ]
  },
  {
   "cell_type": "code",
   "execution_count": 53,
   "metadata": {},
   "outputs": [],
   "source": [
    "rf_score = accuracy_score(pred_test, y_test)"
   ]
  },
  {
   "cell_type": "code",
   "execution_count": 54,
   "metadata": {},
   "outputs": [
    {
     "data": {
      "text/html": [
       "<div>\n",
       "<style scoped>\n",
       "    .dataframe tbody tr th:only-of-type {\n",
       "        vertical-align: middle;\n",
       "    }\n",
       "\n",
       "    .dataframe tbody tr th {\n",
       "        vertical-align: top;\n",
       "    }\n",
       "\n",
       "    .dataframe thead th {\n",
       "        text-align: right;\n",
       "    }\n",
       "</style>\n",
       "<table border=\"1\" class=\"dataframe\">\n",
       "  <thead>\n",
       "    <tr style=\"text-align: right;\">\n",
       "      <th></th>\n",
       "      <th>0</th>\n",
       "      <th>1</th>\n",
       "    </tr>\n",
       "  </thead>\n",
       "  <tbody>\n",
       "    <tr>\n",
       "      <th>0</th>\n",
       "      <td>acousticness</td>\n",
       "      <td>0.112218</td>\n",
       "    </tr>\n",
       "    <tr>\n",
       "      <th>1</th>\n",
       "      <td>danceability</td>\n",
       "      <td>0.070404</td>\n",
       "    </tr>\n",
       "    <tr>\n",
       "      <th>2</th>\n",
       "      <td>duration_ms</td>\n",
       "      <td>0.056180</td>\n",
       "    </tr>\n",
       "    <tr>\n",
       "      <th>3</th>\n",
       "      <td>energy</td>\n",
       "      <td>0.057870</td>\n",
       "    </tr>\n",
       "    <tr>\n",
       "      <th>4</th>\n",
       "      <td>instrumentalness</td>\n",
       "      <td>0.043434</td>\n",
       "    </tr>\n",
       "    <tr>\n",
       "      <th>5</th>\n",
       "      <td>key</td>\n",
       "      <td>0.214133</td>\n",
       "    </tr>\n",
       "    <tr>\n",
       "      <th>6</th>\n",
       "      <td>liveness</td>\n",
       "      <td>0.042887</td>\n",
       "    </tr>\n",
       "    <tr>\n",
       "      <th>7</th>\n",
       "      <td>loudness</td>\n",
       "      <td>0.035769</td>\n",
       "    </tr>\n",
       "    <tr>\n",
       "      <th>8</th>\n",
       "      <td>mode</td>\n",
       "      <td>0.170644</td>\n",
       "    </tr>\n",
       "    <tr>\n",
       "      <th>9</th>\n",
       "      <td>speechiness</td>\n",
       "      <td>0.061317</td>\n",
       "    </tr>\n",
       "    <tr>\n",
       "      <th>10</th>\n",
       "      <td>tempo</td>\n",
       "      <td>0.037828</td>\n",
       "    </tr>\n",
       "    <tr>\n",
       "      <th>11</th>\n",
       "      <td>time_signature</td>\n",
       "      <td>0.045980</td>\n",
       "    </tr>\n",
       "    <tr>\n",
       "      <th>12</th>\n",
       "      <td>valence</td>\n",
       "      <td>0.051336</td>\n",
       "    </tr>\n",
       "  </tbody>\n",
       "</table>\n",
       "</div>"
      ],
      "text/plain": [
       "                   0         1\n",
       "0       acousticness  0.112218\n",
       "1       danceability  0.070404\n",
       "2        duration_ms  0.056180\n",
       "3             energy  0.057870\n",
       "4   instrumentalness  0.043434\n",
       "5                key  0.214133\n",
       "6           liveness  0.042887\n",
       "7           loudness  0.035769\n",
       "8               mode  0.170644\n",
       "9        speechiness  0.061317\n",
       "10             tempo  0.037828\n",
       "11    time_signature  0.045980\n",
       "12           valence  0.051336"
      ]
     },
     "execution_count": 54,
     "metadata": {},
     "output_type": "execute_result"
    }
   ],
   "source": [
    "coefficients = pd.Series(random_forest_class.feature_importances_)\n",
    "features = pd.Series(X.columns)\n",
    "pd.concat([features, coefficients], axis=1)"
   ]
  },
  {
   "cell_type": "markdown",
   "metadata": {},
   "source": [
    "## Adaboost"
   ]
  },
  {
   "cell_type": "code",
   "execution_count": 55,
   "metadata": {},
   "outputs": [
    {
     "data": {
      "text/plain": [
       "AdaBoostClassifier(algorithm='SAMME.R', base_estimator=None,\n",
       "          learning_rate=1.0, n_estimators=50, random_state=None)"
      ]
     },
     "execution_count": 55,
     "metadata": {},
     "output_type": "execute_result"
    }
   ],
   "source": [
    "adaboost_class = AdaBoostClassifier()\n",
    "adaboost_class.fit(X_train, y_train)"
   ]
  },
  {
   "cell_type": "code",
   "execution_count": 56,
   "metadata": {},
   "outputs": [],
   "source": [
    "# Predict on training set\n",
    "pred_train = adaboost_class.predict(X_train)\n",
    "pred_test = adaboost_class.predict(X_test)"
   ]
  },
  {
   "cell_type": "code",
   "execution_count": 57,
   "metadata": {
    "scrolled": true
   },
   "outputs": [
    {
     "name": "stdout",
     "output_type": "stream",
     "text": [
      "0.8604490781591047\n",
      "0.858624629059448\n"
     ]
    }
   ],
   "source": [
    "##Training Accuracy\n",
    "print(accuracy_score(pred_train, y_train))\n",
    "\n",
    "##Testing Accuracy\n",
    "print(accuracy_score(pred_test, y_test))"
   ]
  },
  {
   "cell_type": "code",
   "execution_count": 58,
   "metadata": {},
   "outputs": [],
   "source": [
    "ada_score = accuracy_score(pred_test, y_test)"
   ]
  },
  {
   "cell_type": "markdown",
   "metadata": {},
   "source": [
    "## Gradient Boosting Classifier"
   ]
  },
  {
   "cell_type": "code",
   "execution_count": 59,
   "metadata": {},
   "outputs": [
    {
     "data": {
      "text/plain": [
       "GradientBoostingClassifier(criterion='friedman_mse', init=None,\n",
       "              learning_rate=0.1, loss='deviance', max_depth=3,\n",
       "              max_features=None, max_leaf_nodes=None,\n",
       "              min_impurity_decrease=0.0, min_impurity_split=None,\n",
       "              min_samples_leaf=1, min_samples_split=2,\n",
       "              min_weight_fraction_leaf=0.0, n_estimators=100,\n",
       "              n_iter_no_change=None, presort='auto', random_state=None,\n",
       "              subsample=1.0, tol=0.0001, validation_fraction=0.1,\n",
       "              verbose=0, warm_start=False)"
      ]
     },
     "execution_count": 59,
     "metadata": {},
     "output_type": "execute_result"
    }
   ],
   "source": [
    "gradient_class = GradientBoostingClassifier()\n",
    "gradient_class.fit(X_train, y_train)"
   ]
  },
  {
   "cell_type": "code",
   "execution_count": 60,
   "metadata": {},
   "outputs": [],
   "source": [
    "# Predict on training set\n",
    "pred_train = gradient_class.predict(X_train)\n",
    "pred_test = gradient_class.predict(X_test)"
   ]
  },
  {
   "cell_type": "code",
   "execution_count": 61,
   "metadata": {},
   "outputs": [
    {
     "name": "stdout",
     "output_type": "stream",
     "text": [
      "0.9510913481632842\n",
      "0.9511055073352188\n"
     ]
    }
   ],
   "source": [
    "##Training Accuracy\n",
    "print(accuracy_score(pred_train, y_train))\n",
    "\n",
    "##Testing Accuracy\n",
    "print(accuracy_score(pred_test, y_test))"
   ]
  },
  {
   "cell_type": "code",
   "execution_count": 62,
   "metadata": {},
   "outputs": [],
   "source": [
    "gb_score = accuracy_score(pred_test, y_test)"
   ]
  },
  {
   "cell_type": "markdown",
   "metadata": {},
   "source": [
    "## Voting Classifier"
   ]
  },
  {
   "cell_type": "code",
   "execution_count": 63,
   "metadata": {},
   "outputs": [],
   "source": [
    "vc = VotingClassifier([('rfc', RandomForestClassifier()), \n",
    "                       ('abc', AdaBoostClassifier()), \n",
    "                       ('gbc', GradientBoostingClassifier()), \n",
    "                       ('dtc', DecisionTreeClassifier()), \n",
    "                       ('bag', BaggingClassifier())])"
   ]
  },
  {
   "cell_type": "code",
   "execution_count": 64,
   "metadata": {},
   "outputs": [
    {
     "name": "stderr",
     "output_type": "stream",
     "text": [
      "/Users/jcacho/anaconda3/envs/DSI/lib/python3.7/site-packages/sklearn/ensemble/forest.py:246: FutureWarning: The default value of n_estimators will change from 10 in version 0.20 to 100 in 0.22.\n",
      "  \"10 in version 0.20 to 100 in 0.22.\", FutureWarning)\n"
     ]
    },
    {
     "data": {
      "text/plain": [
       "0.998195792504528"
      ]
     },
     "execution_count": 64,
     "metadata": {},
     "output_type": "execute_result"
    }
   ],
   "source": [
    "vc.fit(X_train, y_train)\n",
    "vc.score(X_train, y_train)"
   ]
  },
  {
   "cell_type": "code",
   "execution_count": 65,
   "metadata": {},
   "outputs": [
    {
     "data": {
      "text/plain": [
       "0.9842567953522716"
      ]
     },
     "execution_count": 65,
     "metadata": {},
     "output_type": "execute_result"
    }
   ],
   "source": [
    "vc.score(X_test, y_test)"
   ]
  },
  {
   "cell_type": "code",
   "execution_count": 66,
   "metadata": {},
   "outputs": [],
   "source": [
    "vc_score = accuracy_score(pred_test, y_test)"
   ]
  }
 ],
 "metadata": {
  "kernelspec": {
   "display_name": "Python 3",
   "language": "python",
   "name": "python3"
  },
  "language_info": {
   "codemirror_mode": {
    "name": "ipython",
    "version": 3
   },
   "file_extension": ".py",
   "mimetype": "text/x-python",
   "name": "python",
   "nbconvert_exporter": "python",
   "pygments_lexer": "ipython3",
   "version": "3.7.2"
  }
 },
 "nbformat": 4,
 "nbformat_minor": 2
}
